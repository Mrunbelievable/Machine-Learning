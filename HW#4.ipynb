{
 "cells": [
  {
   "cell_type": "markdown",
   "metadata": {},
   "source": [
    "Problem 1: Decision Trees for Spam Classification"
   ]
  },
  {
   "cell_type": "code",
   "execution_count": 1,
   "metadata": {},
   "outputs": [],
   "source": [
    "# 1.1\n",
    "\n",
    "# p(y=1)=4/10\n",
    "# p(y=-1)=6/10\n",
    "# H(y)=p(y=1)log(1/p(y=1))+p(y=-1)log(1/p(y=-1))\n",
    "# H(y)=0.97095059445\n",
    "\n",
    "\n",
    "# 1.2\n",
    "# Calculate the Information gain\n",
    "\n",
    "#           4/10 is p(0) (3/4*log(4/3)+1/4*log(4/1) is 3/4 is p(y=-1)  1/4 is p(y=1) when select x1 ,in zero situation\n",
    "# x1 = H(y) - (4/10 (3/4*log(4/3)+1/4*log(4/1)) + 6/10(1/2*log(2/1)+1/2*log(2/1))) = 0.0464\n",
    "\n",
    "# x2 = H(y) - (5/10 (1/5*log(5/1)+4/5*log(5/4)) + 5/10(6*log(6)+1/0*log(0))) = 0.6099\n",
    "# x3 = H(y) - (3/10 (2/3*log(3/2)+1/3*log(3/1)) + 7/10(4/7*log(7/4)+3/7*log(7/3))) = 0.0058\n",
    "# x4 = H(y) - (3/10 (1/3*log(3/1)+2/3*log(3/2)) + 7/10(5/7*log(7/5)+2/7*log(7/2))) = 0.0912\n",
    "# x5 = H(y) - (7/10 (4/7*log(7/4)+3/7*log(7/3)) + 3/10(2/3*log(3/2)+1/3*log(3))) = 0.0058\n",
    "\n",
    "# according to the value we get, we should split on feature x2\n",
    "\n",
    "\n",
    "# 1.3\n",
    "\n",
    "# draw the decision tree\n",
    "\n",
    "#                       x2\n",
    "#                     /    \\\n",
    "#                    x1     y=-1\n",
    "#                   /  \\\n",
    "#                  x4   y=1\n",
    "#                 /  \\\n",
    "#              y=1    y=-1  "
   ]
  },
  {
   "cell_type": "markdown",
   "metadata": {},
   "source": [
    "Problem 2: Decision Trees in Python"
   ]
  },
  {
   "cell_type": "code",
   "execution_count": 2,
   "metadata": {},
   "outputs": [],
   "source": [
    "import numpy as np\n",
    "np.random.seed(0)\n",
    "import mltools as ml\n",
    "import matplotlib.pyplot as plt"
   ]
  },
  {
   "cell_type": "code",
   "execution_count": 49,
   "metadata": {},
   "outputs": [
    {
     "name": "stdout",
     "output_type": "stream",
     "text": [
      "problem 2.1\n",
      "--------------------------------\n",
      "Feature :1\n",
      "('Min: ', 0.0)\n",
      "('Max: ', 110285.0)\n",
      "('Mean: ', 1321.1174134446987)\n",
      "('Variance: ', 6747189.595085321)\n",
      "----------------------------\n",
      "Feature :2\n",
      "('Min: ', 0.0)\n",
      "('Max: ', 35.0)\n",
      "('Mean: ', 6.5916745251246125)\n",
      "('Variance: ', 34.70690630279573)\n",
      "----------------------------\n",
      "Feature :3\n",
      "('Min: ', 0.0)\n",
      "('Max: ', 51536.0)\n",
      "('Mean: ', 1152.2732372356188)\n",
      "('Variance: ', 5376518.288798101)\n",
      "----------------------------\n",
      "Feature :4\n",
      "('Min: ', 0.0)\n",
      "('Max: ', 21768.0)\n",
      "('Mean: ', 234.8262548834703)\n",
      "('Variance: ', 260120.83053297663)\n",
      "----------------------------\n",
      "Feature :5\n",
      "('Min: ', 0.0)\n",
      "('Max: ', 27210.0)\n",
      "('Mean: ', 289.75871211100633)\n",
      "('Variance: ', 406615.86511282343)\n",
      "----------------------------\n"
     ]
    }
   ],
   "source": [
    "X = np.genfromtxt('/Users/ding/Desktop/CS178/178-hw4-code/data/X_train.txt', delimiter=',')\n",
    "Y = np.genfromtxt('/Users/ding/Desktop/CS178/178-hw4-code/data/Y_train.txt', delimiter=',')\n",
    "X,Y = ml.shuffleData(X,Y)\n",
    "X = X[:,:41]\n",
    "print(\"problem 2.1\")\n",
    "print('--------------------------------')\n",
    "for i in range(0,5):\n",
    "    print(\"Feature :\" + str(i+1))\n",
    "    print(\"Min: \", np.min(X[:,i]))\n",
    "    print(\"Max: \",  np.max(X[:,i]))\n",
    "    print(\"Mean: \" ,np.mean(X[:,i]))\n",
    "    print(\"Variance: \" ,np.var(X[:,i]))\n",
    "    print('----------------------------')"
   ]
  },
  {
   "cell_type": "code",
   "execution_count": 8,
   "metadata": {},
   "outputs": [
    {
     "name": "stdout",
     "output_type": "stream",
     "text": [
      "problem 2.2\n",
      "--------------------------------\n",
      "('Training error: ', 0.0)\n",
      "('Validation error: ', 0.4055510644031258)\n"
     ]
    }
   ],
   "source": [
    "print(\"problem 2.2\")\n",
    "print('--------------------------------')\n",
    "Xtr,Xva,Ytr,Yva = ml.splitData(X,Y,0.5)\n",
    "learner = ml.dtree.treeClassify(Xtr, Ytr, maxDepth=50)\n",
    "print(\"Training error: \", learner.err(Xtr,Ytr))\n",
    "print(\"Validation error: \", learner.err(Xva,Yva))\n"
   ]
  },
  {
   "cell_type": "code",
   "execution_count": 17,
   "metadata": {},
   "outputs": [
    {
     "name": "stdout",
     "output_type": "stream",
     "text": [
      "problem 2.3\n",
      "--------------------------------\n"
     ]
    },
    {
     "data": {
      "image/png": "[encoded data removed]",
      "text/plain": [
       "<Figure size 432x288 with 1 Axes>"
      ]
     },
     "metadata": {
      "needs_background": "light"
     },
     "output_type": "display_data"
    },
    {
     "name": "stdout",
     "output_type": "stream",
     "text": [
      "('Best depth:', 7, 'Error:', 0.3691727297224468)\n",
      "Models with higher maxDepth have a higher complexity\n",
      "in this problem, we choose depth 7\n"
     ]
    }
   ],
   "source": [
    "print(\"problem 2.3\")\n",
    "print('--------------------------------')\n",
    "depths = np.arange(16)\n",
    "Train_error = []\n",
    "Validation_error = []\n",
    "\n",
    "for depth in depths:\n",
    "    learner = ml.dtree.treeClassify(Xtr, Ytr, maxDepth=depth)\n",
    "    Train_error.append(learner.err(Xtr,Ytr))\n",
    "    Validation_error.append(learner.err(Xva,Yva))\n",
    "\n",
    "plt.plot(depths, Train_error)\n",
    "plt.plot(depths, Validation_error)\n",
    "plt.legend(['Training Error','Validation Error'])\n",
    "plt.show()\n",
    "bestDepth, bestError = np.argmin(Validation_error), np.min(Validation_error) \n",
    "print ('Best depth:', bestDepth, 'Error:', bestError)\n",
    "print(\"Models with higher maxDepth have a higher complexity\")\n",
    "print(\"in this problem, we choose depth 7\")"
   ]
  },
  {
   "cell_type": "code",
   "execution_count": 30,
   "metadata": {},
   "outputs": [
    {
     "name": "stdout",
     "output_type": "stream",
     "text": [
      "problem 2.4\n",
      "--------------------------------\n"
     ]
    },
    {
     "data": {
      "image/png": "[encoded data removed]",
      "text/plain": [
       "<Figure size 576x432 with 1 Axes>"
      ]
     },
     "metadata": {
      "needs_background": "light"
     },
     "output_type": "display_data"
    },
    {
     "name": "stdout",
     "output_type": "stream",
     "text": [
      "('Best minParent:', 1024, 'Error:', 0.35408245755860956)\n",
      "Models with higher minParent will have lower complexity\n"
     ]
    }
   ],
   "source": [
    "print(\"problem 2.4\")\n",
    "print('--------------------------------')\n",
    "\n",
    "Train_error = []\n",
    "Validation_error = []\n",
    "\n",
    "for i in range(0,14):\n",
    "    val = 2**i\n",
    "    learner = ml.dtree.treeClassify(Xtr, Ytr, maxDepth=50, minParent=val)\n",
    "    Train_error.append(learner.err(Xtr,Ytr))\n",
    "    Validation_error.append(learner.err(Xva,Yva))\n",
    "minParents = [1,2,4,8,16,32,64,128,256,512,1024,2048,4096,8192]\n",
    "_, ax = plt.subplots(1, 1, figsize=(8,6))\n",
    "ax.semilogx(minParents, Train_error,basex=2)\n",
    "ax.semilogx(minParents, Validation_error,basex=2)\n",
    "ax.legend(['Training Error','Validation Error'])\n",
    "plt.show()\n",
    "bestMinparent, bestError = minParents[np.argmin(Validation_error)], np.min(Validation_error) \n",
    "print ('Best minParent:', bestMinparent, 'Error:', bestError)\n",
    "print(\"Models with higher minParent will have lower complexity\")"
   ]
  },
  {
   "cell_type": "code",
   "execution_count": 35,
   "metadata": {},
   "outputs": [
    {
     "name": "stdout",
     "output_type": "stream",
     "text": [
      "problem 2.6\n",
      "--------------------------------\n"
     ]
    },
    {
     "data": {
      "image/png": "[encoded data removed]",
      "text/plain": [
       "<Figure size 432x288 with 1 Axes>"
      ]
     },
     "metadata": {
      "needs_background": "light"
     },
     "output_type": "display_data"
    },
    {
     "name": "stdout",
     "output_type": "stream",
     "text": [
      "('Training AUC:', 0.71185836212152)\n",
      "('Validation AUC:', 0.6973118692086943)\n"
     ]
    }
   ],
   "source": [
    "print(\"problem 2.6\")\n",
    "print('--------------------------------')\n",
    "learner = ml.dtree.treeClassify(Xtr, Ytr, maxDepth=7, minParent=1024)\n",
    "fprTr, tprTr, _ = learner.roc(Xtr, Ytr)\n",
    "fprVa, tprVa, _ = learner.roc(Xva, Yva)\n",
    "\n",
    "plt.plot(fprTr, tprTr)\n",
    "plt.plot(fprVa, tprVa)\n",
    "plt.title(\"Training and Validation ROC Curves\")\n",
    "plt.legend(['Training Error','Validation Error'])\n",
    "plt.show()\n",
    "print ('Training AUC:', learner.auc(Xtr, Ytr))\n",
    "print ('Validation AUC:', learner.auc(Xva, Yva))"
   ]
  },
  {
   "cell_type": "code",
   "execution_count": 37,
   "metadata": {},
   "outputs": [
    {
     "name": "stdout",
     "output_type": "stream",
     "text": [
      "problem 2.7\n",
      "--------------------------------\n"
     ]
    }
   ],
   "source": [
    "print(\"problem 2.7\")\n",
    "print('--------------------------------')\n",
    "# according to the question above, we have maxDepth 7, minParent 1024\n",
    "\n",
    "learner = ml.dtree.treeClassify(Xtr, Ytr, maxDepth=7, minParent=1024)\n",
    "Xte = np.genfromtxt('/Users/ding/Desktop/CS178/178-hw4-code/data/X_test.txt', delimiter=',')\n",
    "Yte = np.vstack((np.arange(Xte.shape[0]), learner.predictSoft(Xte)[:,1])).T\n",
    "np.savetxt('Y_submit.txt',Yte,'%d, %.2f',header='Id,Predicted',comments='',delimiter=',')"
   ]
  },
  {
   "cell_type": "markdown",
   "metadata": {},
   "source": [
    "Problem 3: Ensemble Methods"
   ]
  },
  {
   "cell_type": "code",
   "execution_count": 48,
   "metadata": {},
   "outputs": [
    {
     "name": "stdout",
     "output_type": "stream",
     "text": [
      "learners: 1\n",
      "('Train: ', 0.2087823275862069)\n",
      "('Validation: ', 0.41579089194287255)\n",
      "----------------------------\n",
      "learners: 5\n",
      "('Train: ', 0.11153017241379311)\n",
      "('Validation: ', 0.3831851253031528)\n",
      "----------------------------\n",
      "learners: 10\n",
      "('Train: ', 0.06869612068965517)\n",
      "('Validation: ', 0.375909458367017)\n",
      "----------------------------\n",
      "learners: 15\n",
      "('Train: ', 0.05307112068965517)\n",
      "('Validation: ', 0.37159795203449203)\n",
      "----------------------------\n"
     ]
    }
   ],
   "source": [
    "M = Xtr.shape[0]\n",
    "Mv= Xva.shape[0]\n",
    "randomForest = [None]*25\n",
    "YtHat = np.zeros((M,25)) \n",
    "YvHat = np.zeros((Mv,25)) \n",
    "for i in range(25):\n",
    "    Xi,Yi = ml.bootstrapData(Xtr,Ytr, M)\n",
    "    randomForest[i] = ml.dtree.treeClassify()\n",
    "    randomForest[i].train(Xi,Yi,maxDepth=15,nFeatures=60)\n",
    "    YtHat[:,i] = randomForest[i].predict(Xtr) \n",
    "    YvHat[:,i] = randomForest[i].predict(Xva)\n",
    "learners = [1,5,10,15]\n",
    "for i in learners:\n",
    "    error_Train = (Ytr != (YtHat[:,0:i].mean(axis=1) > .5)).mean()\n",
    "    error_Validation = (Yva != (YvHat[:,0:i].mean(axis=1) > .5)).mean()\n",
    "    print(\"learners: \" + str(i))\n",
    "    print(\"Train: \", error_Train)\n",
    "    print(\"Validation: \", error_Validation)\n",
    "    print('----------------------------')"
   ]
  },
  {
   "cell_type": "markdown",
   "metadata": {},
   "source": [
    "Problem 4: Statement of Collaboration\n",
    "Before starting homework, I study the disscusion. and also look at piazza"
   ]
  },
  {
   "cell_type": "code",
   "execution_count": null,
   "metadata": {},
   "outputs": [],
   "source": []
  }
 ],
 "metadata": {
  "kernelspec": {
   "display_name": "Python 2",
   "language": "python",
   "name": "python2"
  },
  "language_info": {
   "codemirror_mode": {
    "name": "ipython",
    "version": 2
   },
   "file_extension": ".py",
   "mimetype": "text/x-python",
   "name": "python",
   "nbconvert_exporter": "python",
   "pygments_lexer": "ipython2",
   "version": "2.7.10"
  }
 },
 "nbformat": 4,
 "nbformat_minor": 2
}
